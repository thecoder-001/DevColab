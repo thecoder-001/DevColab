{
  "nbformat": 4,
  "nbformat_minor": 0,
  "metadata": {
    "colab": {
      "name": "DevColab.ipynb",
      "provenance": [],
      "collapsed_sections": [],
      "authorship_tag": "ABX9TyMmtcgMnJYLLkIF7rjVQhMc",
      "include_colab_link": true
    },
    "kernelspec": {
      "name": "python3",
      "display_name": "Python 3"
    }
  },
  "cells": [
    {
      "cell_type": "markdown",
      "metadata": {
        "id": "view-in-github",
        "colab_type": "text"
      },
      "source": [
        "<a href=\"https://colab.research.google.com/github/thecoder-001/DevColab/blob/master/DevColab.ipynb\" target=\"_parent\"><img src=\"https://colab.research.google.com/assets/colab-badge.svg\" alt=\"Open In Colab\"/></a>"
      ]
    },
    {
      "cell_type": "markdown",
      "metadata": {
        "id": "hWs-2dn04LF1"
      },
      "source": [
        "```python\n",
        "  ___           ___     _      _    \n",
        " |   \\ _____ __/ __|___| |__ _| |__ \n",
        " | |) / -_) V / (__/ _ \\ / _` | '_ \\\n",
        " |___/\\___|\\_/ \\___\\___/_\\__,_|_.__/\n",
        "                                   \n",
        "```\n",
        "**Run a Development environment on Google Colab!**\n",
        "\n",
        "---\n",
        "The script below will set up your dev environment and create a SSh tunnel. You'll have to get auth token from google drive and ngork to be able to use and store your files - don't worry, the scripts below will do the majority of the work for you.\n"
      ]
    },
    {
      "cell_type": "code",
      "metadata": {
        "id": "uQQO6jT46NA6"
      },
      "source": [
        "!pip install pyngrok\n",
        "\n",
        "import os\n",
        "from pyngrok import ngrok\n",
        "# Update the package lists\n",
        "!sudo apt update\n",
        "\n",
        "# Want to update all the packages too? Uncomment the below command. Warning: Updating usually takes some time (~1 minute)\n",
        "#!sudo apt upgrade\n",
        "\n",
        "# Mount Google Drive\n",
        "from google.colab import drive\n",
        "drive.mount('/content/drive')\n",
        "# Drive is mounted under \"/content/drive/My Drive/\"\n",
        "\n",
        "# Ask for the ngrok authtoken\n",
        "print(\"Get your authtoken from https://dashboard.ngrok.com/auth\")\n",
        "import getpass\n",
        "authtoken = getpass.getpass()  # input your Ngrok auth token everytime you run the cell or simply replace \"getpass.getpass()\" with your token in \"double quotes\"\n",
        "!ngrok authtoken $authtoken # login to ngrok\n",
        "\n"
      ],
      "execution_count": null,
      "outputs": []
    },
    {
      "cell_type": "code",
      "metadata": {
        "id": "5YUSKsV3OhPr"
      },
      "source": [
        "!curl -fsSL https://code-server.dev/install.sh | sh\n",
        "vscode_tunnel = ngrok.connect(8123)\n",
        "print(\"Open the first link below in browser:\")\n",
        "print(str(vscode_tunnel).replace('http://', 'https://'))\n",
        "!sudo rm ~/.config/code-server/config.yaml\n",
        "! sudo touch ~/.config/code-server/config.yaml\n",
        "! echo \"bind-addr: 127.0.0.1:8123\" >> ~/.config/code-server/config.yaml\n",
        "! echo \"auth: password\" >> ~/.config/code-server/config.yaml\n",
        "! echo \"password: devcolab\" >> ~/.config/code-server/config.yaml\n",
        "! echo \"cert: false\" >> ~/.config/code-server/config.yaml\n",
        "\n",
        "!mkdir \"/content/drive/My Drive/code-server\"\n",
        "! echo \"bind-addr: 127.0.0.1:8123\" >> \"/content/drive/My Drive/code-server/config.yaml\"\n",
        "! echo \"auth: password\" >> \"/content/drive/My Drive/code-server/config.yaml\"\n",
        "! echo \"password: devcolab\" >> \"/content/drive/My Drive/code-server/config.yaml\"\n",
        "! echo \"cert: false\" >> \"/content/drive/My Drive/code-server/config.yaml\"\n",
        "!code-server --user-data-dir \"/content/drive/My Drive/code-server\"\n"
      ],
      "execution_count": null,
      "outputs": []
    },
    {
      "cell_type": "code",
      "metadata": {
        "id": "XonuvkccPFYg"
      },
      "source": [
        "!cat ~/.config/code-server/config.yaml"
      ],
      "execution_count": null,
      "outputs": []
    },
    {
      "cell_type": "code",
      "metadata": {
        "id": "fdkjf0OJLsVx"
      },
      "source": [
        "# ssh setup\n",
        "!apt-get install -qq -o=Dpkg::Use-Pty=0 openssh-server pwgen > /dev/null\n",
        "!echo root:devcolab | chpasswd #the default ssh password is devcolab, change if you want\n",
        "!mkdir -p /var/run/sshd\n",
        "!echo \"PermitRootLogin yes\" >> /etc/ssh/sshd_config\n",
        "!echo \"PasswordAuthentication yes\" >> /etc/ssh/sshd_config\n",
        "!sudo /usr/sbin/sshd -D  &\n",
        "\n",
        "# Connect to ngrok\n",
        "ssh_tunnel = ngrok.connect(22, \"tcp\")\n",
        "address = ((str(ssh_tunnel).split('\"')[1::2])[0]).replace('tcp://', '')\n",
        "print('Your tunnel address is ' + address)\n",
        "print('Use the following command to connect: ' + \"ssh root@\" + \"tcp://\" + (address.split(':'))[0] + \" -p \" + (address.split(':'))[1])\n",
        "print(\"or if that doesn't work, use this: \" + \"ssh root@\" + (address.split(':'))[0] + \" -p \" + (address.split(':'))[1])\n",
        "\n"
      ],
      "execution_count": null,
      "outputs": []
    }
  ]
}